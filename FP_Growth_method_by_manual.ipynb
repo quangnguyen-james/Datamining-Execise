{
  "nbformat": 4,
  "nbformat_minor": 0,
  "metadata": {
    "colab": {
      "provenance": [],
      "include_colab_link": true
    },
    "kernelspec": {
      "name": "python3",
      "display_name": "Python 3"
    },
    "language_info": {
      "name": "python"
    }
  },
  "cells": [
    {
      "cell_type": "markdown",
      "metadata": {
        "id": "view-in-github",
        "colab_type": "text"
      },
      "source": [
        "<a href=\"https://colab.research.google.com/github/quangnguyen-james/Datamining-Technical/blob/main/FP_Growth_method_by_manual.ipynb\" target=\"_parent\"><img src=\"https://colab.research.google.com/assets/colab-badge.svg\" alt=\"Open In Colab\"/></a>"
      ]
    },
    {
      "cell_type": "markdown",
      "source": [
        "# CÁC BƯỚC THỰC HIỆN THUẬT TOÁN FB-GROWTH\n",
        "1. Quét lần 1 để tính support từng item.\n",
        "2. Loại bỏ item < minSupport.\n",
        "3. Sắp xếp lại item trong từng transaction theo tần suất giảm dần.\n",
        "4. Xây FP-tree.\n",
        "5. Duyệt FP-tree để tạo ra các frequent pattern (dùng đệ quy + conditional FP-tree)."
      ],
      "metadata": {
        "id": "x0g10iIoT7kO"
      }
    },
    {
      "cell_type": "code",
      "source": [
        "import pandas as pd\n",
        "import numpy as np\n",
        "from collections import defaultdict\n",
        "import itertools\n",
        "import random"
      ],
      "metadata": {
        "id": "njLYS0IThmM-"
      },
      "execution_count": 2,
      "outputs": []
    },
    {
      "cell_type": "code",
      "source": [
        "transactions =[['Bánh mì', 'Sữa', 'Bơ'],\n",
        "    ['Bánh mì', 'Bơ'],\n",
        "    ['Sữa', 'Bơ'],\n",
        "    ['Bánh mì', 'Sữa'],\n",
        "    ['Bánh mì', 'Sữa', 'Bơ']]\n",
        "minSupport = 0.5\n",
        "min_support_count = int(minSupport * len(transactions))\n",
        "minConfidence = 0.7"
      ],
      "metadata": {
        "collapsed": true,
        "id": "hbZeeMGvho4k",
        "colab": {
          "base_uri": "https://localhost:8080/"
        },
        "outputId": "51ec2d54-cbfa-483d-b55f-ea3647c3e6f7"
      },
      "execution_count": 72,
      "outputs": [
        {
          "output_type": "stream",
          "name": "stdout",
          "text": [
            "5\n"
          ]
        }
      ]
    },
    {
      "cell_type": "markdown",
      "source": [
        "## Bước 1: Đếm tần suất item\n",
        "**Mục đích**: Đếm số lượng items xuất hiện trong tất cả transactions"
      ],
      "metadata": {
        "id": "4mlA2o52Utpr"
      }
    },
    {
      "cell_type": "code",
      "source": [
        "from collections import defaultdict\n",
        "\n",
        "def get_item_frequency(transactions):\n",
        "    freq = defaultdict(int)\n",
        "    for trans in transactions:\n",
        "        for item in trans:\n",
        "            freq[item] += 1\n",
        "    return freq\n",
        "item_frequencies = get_item_frequency(transactions)\n",
        "print(item_frequencies)"
      ],
      "metadata": {
        "colab": {
          "base_uri": "https://localhost:8080/"
        },
        "id": "fK-oqNkvifry",
        "outputId": "d0ad9b54-26db-449b-e2c5-0977905d7d56"
      },
      "execution_count": 62,
      "outputs": [
        {
          "output_type": "stream",
          "name": "stdout",
          "text": [
            "defaultdict(<class 'int'>, {'Bánh mì': 4, 'Sữa': 4, 'Bơ': 4})\n"
          ]
        }
      ]
    },
    {
      "cell_type": "markdown",
      "source": [
        "## Bước 2: Lọc theo minSupport\n",
        "**Mục đích:** Tìm và loại bỏ tất cả các items nhỏ hơn hoặc bằng minSupport"
      ],
      "metadata": {
        "id": "mw2jlsSNVLIK"
      }
    },
    {
      "cell_type": "code",
      "source": [
        "def filter_items(freq, min_support, num_transactions):\n",
        "    return {item for item, count in freq.items() if count / num_transactions >= min_support}\n",
        "filtered_items = filter_items(item_frequencies, minSupport, len(transactions))\n",
        "print(filtered_items)"
      ],
      "metadata": {
        "id": "is07-OSrr98C",
        "colab": {
          "base_uri": "https://localhost:8080/"
        },
        "outputId": "ba9f2038-e61d-4216-e20f-a437bf90d1a1"
      },
      "execution_count": 71,
      "outputs": [
        {
          "output_type": "stream",
          "name": "stdout",
          "text": [
            "{'Sữa', 'Bánh mì', 'Bơ'}\n"
          ]
        }
      ]
    },
    {
      "cell_type": "markdown",
      "source": [
        "## Bước 3: Sắp xếp transaction theo tần suất\n",
        "**Mục đích:** Sắp xếp lại từng transaction theo thứ tự giảm dần của mỗi item"
      ],
      "metadata": {
        "id": "E02_ASRjVOhT"
      }
    },
    {
      "cell_type": "code",
      "source": [
        "def sort_transactions(transactions, freq):\n",
        "    sorted_trans = []\n",
        "    for trans in transactions:\n",
        "        filtered = [item for item in trans if item in freq]\n",
        "        # Sắp theo tần suất giảm dần\n",
        "        sorted_items = sorted(filtered, key=lambda x: (-freq[x], x))\n",
        "        sorted_trans.append(sorted_items)\n",
        "    return sorted_trans\n",
        "sorted_transactions = sort_transactions(transactions, item_frequencies)\n",
        "print(sorted_transactions)"
      ],
      "metadata": {
        "colab": {
          "base_uri": "https://localhost:8080/"
        },
        "id": "Gf8RCTgBkJx-",
        "outputId": "1a571d1b-835f-44af-81b8-fd27004b2e71"
      },
      "execution_count": 64,
      "outputs": [
        {
          "output_type": "stream",
          "name": "stdout",
          "text": [
            "[['Bánh mì', 'Bơ', 'Sữa'], ['Bánh mì', 'Bơ'], ['Bơ', 'Sữa'], ['Bánh mì', 'Sữa'], ['Bánh mì', 'Bơ', 'Sữa']]\n"
          ]
        }
      ]
    },
    {
      "cell_type": "markdown",
      "source": [
        "## Bước 4: Xây dựng cây FB-tree (Cây gốc)"
      ],
      "metadata": {
        "id": "EnjNzLwbVttB"
      }
    },
    {
      "cell_type": "code",
      "source": [
        "class FPTreeNode:\n",
        "    def __init__(self, item, count=1):\n",
        "        self.item = item\n",
        "        self.count = count\n",
        "        self.parent = None\n",
        "        self.children = {}\n",
        "        self.link = None  # Liên kết cùng item\n",
        "\n",
        "    def increment(self, count):\n",
        "        self.count += count\n",
        "\n",
        "    def display(self, indent=0):\n",
        "        print('  ' * indent + f\"{self.item}:{self.count}\")\n",
        "        for child in self.children.values():\n",
        "            child.display(indent + 1)\n",
        "\n",
        "#  Xây dựng cây\n",
        "def build_fp_tree(sorted_transactions, freq):\n",
        "    header_table = {item: [freq[item], None] for item in freq}\n",
        "    root = FPTreeNode('Null', 1)\n",
        "\n",
        "    for trans in sorted_transactions:\n",
        "        current_node = root\n",
        "        for item in trans:\n",
        "            if item in current_node.children:\n",
        "                current_node.children[item].increment(1)\n",
        "            else:\n",
        "                new_node = FPTreeNode(item, 1)\n",
        "                new_node.parent = current_node\n",
        "                current_node.children[item] = new_node\n",
        "\n",
        "                # Liên kết header_table\n",
        "                if header_table[item][1] is None:\n",
        "                    header_table[item][1] = new_node\n",
        "                else:\n",
        "                    link_node = header_table[item][1]\n",
        "                    while link_node.link:\n",
        "                        link_node = link_node.link\n",
        "                    link_node.link = new_node\n",
        "\n",
        "            current_node = current_node.children[item]\n",
        "    return root, header_table\n",
        "\n",
        "# Xử lý thông tin\n",
        "freq_raw = get_item_frequency(transactions)\n",
        "filtered_items = filter_items(freq_raw, minSupport, len(transactions))\n",
        "freq = {item: freq_raw[item] for item in filtered_items}\n",
        "sorted_trans = sort_transactions(transactions, freq)\n",
        "fp_tree_root, header_table = build_fp_tree(sorted_trans, freq)\n",
        "\n",
        "# Vẽ cây FB-tree\n",
        "fp_tree_root.display()"
      ],
      "metadata": {
        "colab": {
          "base_uri": "https://localhost:8080/"
        },
        "id": "T_KjNQcQDLxQ",
        "outputId": "b1f0954c-8a14-4e2c-f628-7ad368f96e2f"
      },
      "execution_count": 65,
      "outputs": [
        {
          "output_type": "stream",
          "name": "stdout",
          "text": [
            "Null:1\n",
            "  Bánh mì:4\n",
            "    Bơ:3\n",
            "      Sữa:2\n",
            "    Sữa:1\n",
            "  Bơ:1\n",
            "    Sữa:1\n"
          ]
        }
      ]
    },
    {
      "cell_type": "markdown",
      "source": [
        "## Bước 5: Tìm các prefix paths"
      ],
      "metadata": {
        "id": "3X1zxry0bhNU"
      }
    },
    {
      "cell_type": "code",
      "source": [
        "def find_prefix_paths(base_item, header_table):\n",
        "    conditional_patterns = []\n",
        "\n",
        "    node = header_table[base_item][1]\n",
        "    while node:\n",
        "        path = []\n",
        "        parent = node.parent\n",
        "        while parent and parent.item != 'Null':\n",
        "            path.append(parent.item)\n",
        "            parent = parent.parent\n",
        "        path.reverse()\n",
        "        if path:\n",
        "            conditional_patterns.append((path, node.count))\n",
        "        node = node.link\n",
        "    return conditional_patterns"
      ],
      "metadata": {
        "id": "ODBVSt8ZbvMm"
      },
      "execution_count": 66,
      "outputs": []
    },
    {
      "cell_type": "markdown",
      "source": [
        "## Bước 6: Xây conditional FP-Tree\n",
        "**Mục đích:** Xây dựng lại FB-tree với cách duyệt từ Node nhánh cuối lên Node root\n",
        "*  Trả về các path từ item về gốc, cùng count (pattern base)."
      ],
      "metadata": {
        "id": "f8dQlFk4bxOe"
      }
    },
    {
      "cell_type": "code",
      "source": [
        "def build_conditional_fp_tree(conditional_patterns, min_support_count):\n",
        "    item_counts = defaultdict(int)\n",
        "    for path, count in conditional_patterns:\n",
        "        for item in path:\n",
        "            item_counts[item] += count\n",
        "    freq_items = {item: count for item, count in item_counts.items() if count >= min_support_count}\n",
        "    if not freq_items:\n",
        "        return None, None\n",
        "\n",
        "    root = FPTreeNode('Null', 1)\n",
        "    header_table = {item: [freq_items[item], None] for item in freq_items}\n",
        "\n",
        "    for path, count in conditional_patterns:\n",
        "        filtered_path = [item for item in path if item in freq_items]\n",
        "        sorted_path = sorted(filtered_path, key=lambda x: (-freq_items[x], x))\n",
        "        current_node = root\n",
        "        for item in sorted_path:\n",
        "            if item in current_node.children:\n",
        "                current_node.children[item].increment(count)\n",
        "            else:\n",
        "                new_node = FPTreeNode(item, count)\n",
        "                new_node.parent = current_node\n",
        "                current_node.children[item] = new_node\n",
        "\n",
        "                if header_table[item][1] is None:\n",
        "                    header_table[item][1] = new_node\n",
        "                else:\n",
        "                    link_node = header_table[item][1]\n",
        "                    while link_node.link:\n",
        "                        link_node = link_node.link\n",
        "                    link_node.link = new_node\n",
        "\n",
        "            current_node = current_node.children[item]\n",
        "    return root, header_table"
      ],
      "metadata": {
        "id": "7yGHErrHb0I2"
      },
      "execution_count": 67,
      "outputs": []
    },
    {
      "cell_type": "markdown",
      "source": [
        "## Bước 7: Đệ quy khai thác FP-Tree\n",
        "**Mục đích:** Đệ quy khai thác itemsets từ conditional tree.\n",
        "*  "
      ],
      "metadata": {
        "id": "pFoPAS1vb2gO"
      }
    },
    {
      "cell_type": "code",
      "source": [
        "def mine_fp_tree(tree, header_table, prefix, freq_itemsets, min_support_count):\n",
        "    sorted_items = sorted(header_table.items(), key=lambda x: x[1][0])\n",
        "    for item, (count, node) in sorted_items:\n",
        "        new_freq_set = prefix + [item]\n",
        "        freq_itemsets[tuple(new_freq_set)] = count\n",
        "\n",
        "        conditional_patterns = find_prefix_paths(item, header_table)\n",
        "        cond_tree, cond_header = build_conditional_fp_tree(conditional_patterns, min_support_count)\n",
        "\n",
        "        if cond_tree:\n",
        "            mine_fp_tree(cond_tree, cond_header, new_freq_set, freq_itemsets, min_support_count)"
      ],
      "metadata": {
        "id": "LAY5VBmGb4yL"
      },
      "execution_count": 68,
      "outputs": []
    },
    {
      "cell_type": "markdown",
      "source": [
        "## Bước 8: chạy xử lý thuật toán FB-Growth (Chạy thử với toàn bộ dữ liệu)"
      ],
      "metadata": {
        "id": "jyWxOVjtb-VI"
      }
    },
    {
      "cell_type": "code",
      "source": [
        "# Khai thác frequent itemsets\n",
        "freq_itemsets = {}\n",
        "mine_fp_tree(fp_tree_root, header_table, [], freq_itemsets, min_support_count)\n",
        "\n",
        "# Hiển thị kết quả\n",
        "for itemset, count in sorted(freq_itemsets.items(), key=lambda x: (-len(x[0]), -x[1])):\n",
        "    print(f\"{set(itemset)}: {count}\")"
      ],
      "metadata": {
        "colab": {
          "base_uri": "https://localhost:8080/"
        },
        "id": "A0i83WtXcFnL",
        "outputId": "267df18f-034f-4405-d81e-af0a05223a1c"
      },
      "execution_count": 69,
      "outputs": [
        {
          "output_type": "stream",
          "name": "stdout",
          "text": [
            "{'Sữa', 'Bánh mì', 'Bơ'}: 2\n",
            "{'Sữa', 'Bánh mì'}: 3\n",
            "{'Sữa', 'Bơ'}: 3\n",
            "{'Bánh mì', 'Bơ'}: 3\n",
            "{'Sữa'}: 4\n",
            "{'Bánh mì'}: 4\n",
            "{'Bơ'}: 4\n"
          ]
        }
      ]
    },
    {
      "cell_type": "markdown",
      "source": [
        "## Bước 9: Tính toán luật kết hợp và Lift\n",
        "*  Điều kiện phải có transaction có tối thiểu 2 items\n",
        "*  Dựa vào điều kiện minConfidence để chọn"
      ],
      "metadata": {
        "id": "JJbRwWxuc2EV"
      }
    },
    {
      "cell_type": "code",
      "source": [
        "from itertools import combinations\n",
        "\n",
        "def generate_association_rules(freq_itemsets, transactions, min_confidence):\n",
        "    rules = []\n",
        "    total_trans = len(transactions)\n",
        "\n",
        "    for itemset in freq_itemsets:\n",
        "        if len(itemset) < 2:\n",
        "            continue  # Bỏ qua tập nhỏ hơn 2 item\n",
        "\n",
        "        itemset_support = freq_itemsets[itemset]\n",
        "\n",
        "        for i in range(1, len(itemset)):\n",
        "            for antecedent in combinations(itemset, i):\n",
        "                antecedent = tuple(sorted(antecedent))\n",
        "                consequent = tuple(sorted(set(itemset) - set(antecedent)))\n",
        "\n",
        "                antecedent_support = freq_itemsets.get(antecedent)\n",
        "                consequent_support = freq_itemsets.get(consequent)\n",
        "\n",
        "                if antecedent_support and consequent_support:\n",
        "                    confidence = itemset_support / antecedent_support\n",
        "                    lift = confidence / (consequent_support / total_trans)\n",
        "                    support = itemset_support / total_trans\n",
        "\n",
        "                    if confidence >= min_confidence:\n",
        "                        rules.append({\n",
        "                            'antecedent': antecedent,\n",
        "                            'consequent': consequent,\n",
        "                            'support': round(support, 3),\n",
        "                            'confidence': round(confidence, 3),\n",
        "                            'lift': round(lift, 3)\n",
        "                        })\n",
        "    return rules\n",
        "\n",
        "# Gọi hàm\n",
        "rules = generate_association_rules(freq_itemsets, transactions, minConfidence)\n",
        "print(rules)\n",
        "\n",
        "# In ra danh sách các cặp luật kết hợp và kết quả Confidence và Lift\n",
        "for rule in rules:\n",
        "    ant = ', '.join(rule['antecedent'])\n",
        "    cons = ', '.join(rule['consequent'])\n",
        "    print(f\"{ant} => {cons} | Support: {rule['support']}, Confidence: {rule['confidence']}, Lift: {rule['lift']}\")"
      ],
      "metadata": {
        "colab": {
          "base_uri": "https://localhost:8080/"
        },
        "id": "XcR5RTnKc4gt",
        "outputId": "094bdabc-449e-4fbc-d237-24a90215bab0"
      },
      "execution_count": 70,
      "outputs": [
        {
          "output_type": "stream",
          "name": "stdout",
          "text": [
            "[{'antecedent': ('Sữa',), 'consequent': ('Bánh mì',), 'support': 0.6, 'confidence': 0.75, 'lift': 0.938}, {'antecedent': ('Bánh mì',), 'consequent': ('Sữa',), 'support': 0.6, 'confidence': 0.75, 'lift': 0.938}, {'antecedent': ('Sữa',), 'consequent': ('Bơ',), 'support': 0.6, 'confidence': 0.75, 'lift': 0.938}, {'antecedent': ('Bơ',), 'consequent': ('Sữa',), 'support': 0.6, 'confidence': 0.75, 'lift': 0.938}, {'antecedent': ('Bơ',), 'consequent': ('Bánh mì',), 'support': 0.6, 'confidence': 0.75, 'lift': 0.938}, {'antecedent': ('Bánh mì',), 'consequent': ('Bơ',), 'support': 0.6, 'confidence': 0.75, 'lift': 0.938}]\n",
            "Sữa => Bánh mì | Support: 0.6, Confidence: 0.75, Lift: 0.938\n",
            "Bánh mì => Sữa | Support: 0.6, Confidence: 0.75, Lift: 0.938\n",
            "Sữa => Bơ | Support: 0.6, Confidence: 0.75, Lift: 0.938\n",
            "Bơ => Sữa | Support: 0.6, Confidence: 0.75, Lift: 0.938\n",
            "Bơ => Bánh mì | Support: 0.6, Confidence: 0.75, Lift: 0.938\n",
            "Bánh mì => Bơ | Support: 0.6, Confidence: 0.75, Lift: 0.938\n"
          ]
        }
      ]
    }
  ]
}