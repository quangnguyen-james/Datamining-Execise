{
  "nbformat": 4,
  "nbformat_minor": 0,
  "metadata": {
    "colab": {
      "provenance": [],
      "include_colab_link": true
    },
    "kernelspec": {
      "name": "python3",
      "display_name": "Python 3"
    },
    "language_info": {
      "name": "python"
    }
  },
  "cells": [
    {
      "cell_type": "markdown",
      "metadata": {
        "id": "view-in-github",
        "colab_type": "text"
      },
      "source": [
        "<a href=\"https://colab.research.google.com/github/quangnguyen-james/Datamining-Execise/blob/main/online_retail_fpgrowth.ipynb\" target=\"_parent\"><img src=\"https://colab.research.google.com/assets/colab-badge.svg\" alt=\"Open In Colab\"/></a>"
      ]
    },
    {
      "cell_type": "code",
      "source": [
        "import pandas as pd\n",
        "import numpy as np\n",
        "from mlxtend.frequent_patterns import fpgrowth, association_rules\n",
        "from mlxtend.preprocessing import TransactionEncoder\n",
        "import random"
      ],
      "metadata": {
        "id": "njLYS0IThmM-"
      },
      "execution_count": 14,
      "outputs": []
    },
    {
      "cell_type": "code",
      "source": [
        "retail_data = pd.read_excel('/content/Online Retail.xlsx')\n",
        "retail_data.info()\n",
        "#bread_data.head(50)"
      ],
      "metadata": {
        "colab": {
          "base_uri": "https://localhost:8080/"
        },
        "collapsed": true,
        "id": "hbZeeMGvho4k",
        "outputId": "3f200f9a-9a2a-404b-b8b7-174c88c7747a"
      },
      "execution_count": 3,
      "outputs": [
        {
          "output_type": "stream",
          "name": "stdout",
          "text": [
            "<class 'pandas.core.frame.DataFrame'>\n",
            "RangeIndex: 541909 entries, 0 to 541908\n",
            "Data columns (total 8 columns):\n",
            " #   Column       Non-Null Count   Dtype         \n",
            "---  ------       --------------   -----         \n",
            " 0   InvoiceNo    541909 non-null  object        \n",
            " 1   StockCode    541909 non-null  object        \n",
            " 2   Description  540455 non-null  object        \n",
            " 3   Quantity     541909 non-null  int64         \n",
            " 4   InvoiceDate  541909 non-null  datetime64[ns]\n",
            " 5   UnitPrice    541909 non-null  float64       \n",
            " 6   CustomerID   406829 non-null  float64       \n",
            " 7   Country      541909 non-null  object        \n",
            "dtypes: datetime64[ns](1), float64(2), int64(1), object(4)\n",
            "memory usage: 33.1+ MB\n"
          ]
        }
      ]
    },
    {
      "cell_type": "code",
      "source": [
        "#Kiểm tra duplicate\n",
        "print(retail_data.duplicated().sum())\n",
        "# Lấy ra 10 bản ghi bị duplicate\n",
        "duplicates = retail_data[retail_data.duplicated()].head(10)\n",
        "print(duplicates)"
      ],
      "metadata": {
        "colab": {
          "base_uri": "https://localhost:8080/"
        },
        "id": "fK-oqNkvifry",
        "outputId": "33c9420b-682b-4ffc-a730-2ea81a2fefd3"
      },
      "execution_count": 4,
      "outputs": [
        {
          "output_type": "stream",
          "name": "stdout",
          "text": [
            "5268\n",
            "    InvoiceNo StockCode                        Description  Quantity  \\\n",
            "517    536409     21866        UNION JACK FLAG LUGGAGE TAG         1   \n",
            "527    536409     22866      HAND WARMER SCOTTY DOG DESIGN         1   \n",
            "537    536409     22900    SET 2 TEA TOWELS I LOVE LONDON          1   \n",
            "539    536409     22111       SCOTTIE DOG HOT WATER BOTTLE         1   \n",
            "555    536412     22327  ROUND SNACK BOXES SET OF 4 SKULLS         1   \n",
            "587    536412     22273               FELTCRAFT DOLL MOLLY         1   \n",
            "589    536412     22749  FELTCRAFT PRINCESS CHARLOTTE DOLL         1   \n",
            "594    536412     22141     CHRISTMAS CRAFT TREE TOP ANGEL         1   \n",
            "598    536412     21448          12 DAISY PEGS IN WOOD BOX         1   \n",
            "600    536412     22569        FELTCRAFT CUSHION BUTTERFLY         2   \n",
            "\n",
            "            InvoiceDate  UnitPrice  CustomerID         Country  \n",
            "517 2010-12-01 11:45:00       1.25     17908.0  United Kingdom  \n",
            "527 2010-12-01 11:45:00       2.10     17908.0  United Kingdom  \n",
            "537 2010-12-01 11:45:00       2.95     17908.0  United Kingdom  \n",
            "539 2010-12-01 11:45:00       4.95     17908.0  United Kingdom  \n",
            "555 2010-12-01 11:49:00       2.95     17920.0  United Kingdom  \n",
            "587 2010-12-01 11:49:00       2.95     17920.0  United Kingdom  \n",
            "589 2010-12-01 11:49:00       3.75     17920.0  United Kingdom  \n",
            "594 2010-12-01 11:49:00       2.10     17920.0  United Kingdom  \n",
            "598 2010-12-01 11:49:00       1.65     17920.0  United Kingdom  \n",
            "600 2010-12-01 11:49:00       3.75     17920.0  United Kingdom  \n"
          ]
        }
      ]
    },
    {
      "cell_type": "code",
      "source": [
        "#Xóa dữ liệu có InvoiceNo là NaN/ NUll\n",
        "retail_data = retail_data.dropna(subset=['InvoiceNo'])\n",
        "retail_data.info()"
      ],
      "metadata": {
        "colab": {
          "base_uri": "https://localhost:8080/"
        },
        "id": "zeI6RJrlvC5p",
        "outputId": "7652b53f-8e33-43ba-ed52-20de0d50e0b7"
      },
      "execution_count": 5,
      "outputs": [
        {
          "output_type": "stream",
          "name": "stdout",
          "text": [
            "<class 'pandas.core.frame.DataFrame'>\n",
            "RangeIndex: 541909 entries, 0 to 541908\n",
            "Data columns (total 8 columns):\n",
            " #   Column       Non-Null Count   Dtype         \n",
            "---  ------       --------------   -----         \n",
            " 0   InvoiceNo    541909 non-null  object        \n",
            " 1   StockCode    541909 non-null  object        \n",
            " 2   Description  540455 non-null  object        \n",
            " 3   Quantity     541909 non-null  int64         \n",
            " 4   InvoiceDate  541909 non-null  datetime64[ns]\n",
            " 5   UnitPrice    541909 non-null  float64       \n",
            " 6   CustomerID   406829 non-null  float64       \n",
            " 7   Country      541909 non-null  object        \n",
            "dtypes: datetime64[ns](1), float64(2), int64(1), object(4)\n",
            "memory usage: 33.1+ MB\n"
          ]
        }
      ]
    },
    {
      "cell_type": "code",
      "source": [
        "# Xóa dữ liệu trùng\n",
        "bread_data = retail_data.drop_duplicates()\n",
        "#Kiểm tra trùng\n",
        "print(retail_data.duplicated().sum())\n"
      ],
      "metadata": {
        "colab": {
          "base_uri": "https://localhost:8080/"
        },
        "id": "Gf8RCTgBkJx-",
        "outputId": "de9cb4e3-689e-40e7-ef19-66dd4d320f9f"
      },
      "execution_count": 6,
      "outputs": [
        {
          "output_type": "stream",
          "name": "stdout",
          "text": [
            "5268\n"
          ]
        }
      ]
    },
    {
      "cell_type": "code",
      "source": [
        "# Số sample còn lại\n",
        "print(retail_data.shape)\n",
        "retail_data.head(10)"
      ],
      "metadata": {
        "colab": {
          "base_uri": "https://localhost:8080/",
          "height": 381
        },
        "id": "xExBbgY5lNmg",
        "outputId": "4a4738ef-cbe8-4853-e21a-83c31ec08d7f"
      },
      "execution_count": 7,
      "outputs": [
        {
          "output_type": "stream",
          "name": "stdout",
          "text": [
            "(541909, 8)\n"
          ]
        },
        {
          "output_type": "execute_result",
          "data": {
            "text/plain": [
              "  InvoiceNo StockCode                          Description  Quantity  \\\n",
              "0    536365    85123A   WHITE HANGING HEART T-LIGHT HOLDER         6   \n",
              "1    536365     71053                  WHITE METAL LANTERN         6   \n",
              "2    536365    84406B       CREAM CUPID HEARTS COAT HANGER         8   \n",
              "3    536365    84029G  KNITTED UNION FLAG HOT WATER BOTTLE         6   \n",
              "4    536365    84029E       RED WOOLLY HOTTIE WHITE HEART.         6   \n",
              "5    536365     22752         SET 7 BABUSHKA NESTING BOXES         2   \n",
              "6    536365     21730    GLASS STAR FROSTED T-LIGHT HOLDER         6   \n",
              "7    536366     22633               HAND WARMER UNION JACK         6   \n",
              "8    536366     22632            HAND WARMER RED POLKA DOT         6   \n",
              "9    536367     84879        ASSORTED COLOUR BIRD ORNAMENT        32   \n",
              "\n",
              "          InvoiceDate  UnitPrice  CustomerID         Country  \n",
              "0 2010-12-01 08:26:00       2.55     17850.0  United Kingdom  \n",
              "1 2010-12-01 08:26:00       3.39     17850.0  United Kingdom  \n",
              "2 2010-12-01 08:26:00       2.75     17850.0  United Kingdom  \n",
              "3 2010-12-01 08:26:00       3.39     17850.0  United Kingdom  \n",
              "4 2010-12-01 08:26:00       3.39     17850.0  United Kingdom  \n",
              "5 2010-12-01 08:26:00       7.65     17850.0  United Kingdom  \n",
              "6 2010-12-01 08:26:00       4.25     17850.0  United Kingdom  \n",
              "7 2010-12-01 08:28:00       1.85     17850.0  United Kingdom  \n",
              "8 2010-12-01 08:28:00       1.85     17850.0  United Kingdom  \n",
              "9 2010-12-01 08:34:00       1.69     13047.0  United Kingdom  "
            ],
            "text/html": [
              "\n",
              "  <div id=\"df-bcdc6f1c-cf94-4c3b-ad0b-97e3647e6996\" class=\"colab-df-container\">\n",
              "    <div>\n",
              "<style scoped>\n",
              "    .dataframe tbody tr th:only-of-type {\n",
              "        vertical-align: middle;\n",
              "    }\n",
              "\n",
              "    .dataframe tbody tr th {\n",
              "        vertical-align: top;\n",
              "    }\n",
              "\n",
              "    .dataframe thead th {\n",
              "        text-align: right;\n",
              "    }\n",
              "</style>\n",
              "<table border=\"1\" class=\"dataframe\">\n",
              "  <thead>\n",
              "    <tr style=\"text-align: right;\">\n",
              "      <th></th>\n",
              "      <th>InvoiceNo</th>\n",
              "      <th>StockCode</th>\n",
              "      <th>Description</th>\n",
              "      <th>Quantity</th>\n",
              "      <th>InvoiceDate</th>\n",
              "      <th>UnitPrice</th>\n",
              "      <th>CustomerID</th>\n",
              "      <th>Country</th>\n",
              "    </tr>\n",
              "  </thead>\n",
              "  <tbody>\n",
              "    <tr>\n",
              "      <th>0</th>\n",
              "      <td>536365</td>\n",
              "      <td>85123A</td>\n",
              "      <td>WHITE HANGING HEART T-LIGHT HOLDER</td>\n",
              "      <td>6</td>\n",
              "      <td>2010-12-01 08:26:00</td>\n",
              "      <td>2.55</td>\n",
              "      <td>17850.0</td>\n",
              "      <td>United Kingdom</td>\n",
              "    </tr>\n",
              "    <tr>\n",
              "      <th>1</th>\n",
              "      <td>536365</td>\n",
              "      <td>71053</td>\n",
              "      <td>WHITE METAL LANTERN</td>\n",
              "      <td>6</td>\n",
              "      <td>2010-12-01 08:26:00</td>\n",
              "      <td>3.39</td>\n",
              "      <td>17850.0</td>\n",
              "      <td>United Kingdom</td>\n",
              "    </tr>\n",
              "    <tr>\n",
              "      <th>2</th>\n",
              "      <td>536365</td>\n",
              "      <td>84406B</td>\n",
              "      <td>CREAM CUPID HEARTS COAT HANGER</td>\n",
              "      <td>8</td>\n",
              "      <td>2010-12-01 08:26:00</td>\n",
              "      <td>2.75</td>\n",
              "      <td>17850.0</td>\n",
              "      <td>United Kingdom</td>\n",
              "    </tr>\n",
              "    <tr>\n",
              "      <th>3</th>\n",
              "      <td>536365</td>\n",
              "      <td>84029G</td>\n",
              "      <td>KNITTED UNION FLAG HOT WATER BOTTLE</td>\n",
              "      <td>6</td>\n",
              "      <td>2010-12-01 08:26:00</td>\n",
              "      <td>3.39</td>\n",
              "      <td>17850.0</td>\n",
              "      <td>United Kingdom</td>\n",
              "    </tr>\n",
              "    <tr>\n",
              "      <th>4</th>\n",
              "      <td>536365</td>\n",
              "      <td>84029E</td>\n",
              "      <td>RED WOOLLY HOTTIE WHITE HEART.</td>\n",
              "      <td>6</td>\n",
              "      <td>2010-12-01 08:26:00</td>\n",
              "      <td>3.39</td>\n",
              "      <td>17850.0</td>\n",
              "      <td>United Kingdom</td>\n",
              "    </tr>\n",
              "    <tr>\n",
              "      <th>5</th>\n",
              "      <td>536365</td>\n",
              "      <td>22752</td>\n",
              "      <td>SET 7 BABUSHKA NESTING BOXES</td>\n",
              "      <td>2</td>\n",
              "      <td>2010-12-01 08:26:00</td>\n",
              "      <td>7.65</td>\n",
              "      <td>17850.0</td>\n",
              "      <td>United Kingdom</td>\n",
              "    </tr>\n",
              "    <tr>\n",
              "      <th>6</th>\n",
              "      <td>536365</td>\n",
              "      <td>21730</td>\n",
              "      <td>GLASS STAR FROSTED T-LIGHT HOLDER</td>\n",
              "      <td>6</td>\n",
              "      <td>2010-12-01 08:26:00</td>\n",
              "      <td>4.25</td>\n",
              "      <td>17850.0</td>\n",
              "      <td>United Kingdom</td>\n",
              "    </tr>\n",
              "    <tr>\n",
              "      <th>7</th>\n",
              "      <td>536366</td>\n",
              "      <td>22633</td>\n",
              "      <td>HAND WARMER UNION JACK</td>\n",
              "      <td>6</td>\n",
              "      <td>2010-12-01 08:28:00</td>\n",
              "      <td>1.85</td>\n",
              "      <td>17850.0</td>\n",
              "      <td>United Kingdom</td>\n",
              "    </tr>\n",
              "    <tr>\n",
              "      <th>8</th>\n",
              "      <td>536366</td>\n",
              "      <td>22632</td>\n",
              "      <td>HAND WARMER RED POLKA DOT</td>\n",
              "      <td>6</td>\n",
              "      <td>2010-12-01 08:28:00</td>\n",
              "      <td>1.85</td>\n",
              "      <td>17850.0</td>\n",
              "      <td>United Kingdom</td>\n",
              "    </tr>\n",
              "    <tr>\n",
              "      <th>9</th>\n",
              "      <td>536367</td>\n",
              "      <td>84879</td>\n",
              "      <td>ASSORTED COLOUR BIRD ORNAMENT</td>\n",
              "      <td>32</td>\n",
              "      <td>2010-12-01 08:34:00</td>\n",
              "      <td>1.69</td>\n",
              "      <td>13047.0</td>\n",
              "      <td>United Kingdom</td>\n",
              "    </tr>\n",
              "  </tbody>\n",
              "</table>\n",
              "</div>\n",
              "    <div class=\"colab-df-buttons\">\n",
              "\n",
              "  <div class=\"colab-df-container\">\n",
              "    <button class=\"colab-df-convert\" onclick=\"convertToInteractive('df-bcdc6f1c-cf94-4c3b-ad0b-97e3647e6996')\"\n",
              "            title=\"Convert this dataframe to an interactive table.\"\n",
              "            style=\"display:none;\">\n",
              "\n",
              "  <svg xmlns=\"http://www.w3.org/2000/svg\" height=\"24px\" viewBox=\"0 -960 960 960\">\n",
              "    <path d=\"M120-120v-720h720v720H120Zm60-500h600v-160H180v160Zm220 220h160v-160H400v160Zm0 220h160v-160H400v160ZM180-400h160v-160H180v160Zm440 0h160v-160H620v160ZM180-180h160v-160H180v160Zm440 0h160v-160H620v160Z\"/>\n",
              "  </svg>\n",
              "    </button>\n",
              "\n",
              "  <style>\n",
              "    .colab-df-container {\n",
              "      display:flex;\n",
              "      gap: 12px;\n",
              "    }\n",
              "\n",
              "    .colab-df-convert {\n",
              "      background-color: #E8F0FE;\n",
              "      border: none;\n",
              "      border-radius: 50%;\n",
              "      cursor: pointer;\n",
              "      display: none;\n",
              "      fill: #1967D2;\n",
              "      height: 32px;\n",
              "      padding: 0 0 0 0;\n",
              "      width: 32px;\n",
              "    }\n",
              "\n",
              "    .colab-df-convert:hover {\n",
              "      background-color: #E2EBFA;\n",
              "      box-shadow: 0px 1px 2px rgba(60, 64, 67, 0.3), 0px 1px 3px 1px rgba(60, 64, 67, 0.15);\n",
              "      fill: #174EA6;\n",
              "    }\n",
              "\n",
              "    .colab-df-buttons div {\n",
              "      margin-bottom: 4px;\n",
              "    }\n",
              "\n",
              "    [theme=dark] .colab-df-convert {\n",
              "      background-color: #3B4455;\n",
              "      fill: #D2E3FC;\n",
              "    }\n",
              "\n",
              "    [theme=dark] .colab-df-convert:hover {\n",
              "      background-color: #434B5C;\n",
              "      box-shadow: 0px 1px 3px 1px rgba(0, 0, 0, 0.15);\n",
              "      filter: drop-shadow(0px 1px 2px rgba(0, 0, 0, 0.3));\n",
              "      fill: #FFFFFF;\n",
              "    }\n",
              "  </style>\n",
              "\n",
              "    <script>\n",
              "      const buttonEl =\n",
              "        document.querySelector('#df-bcdc6f1c-cf94-4c3b-ad0b-97e3647e6996 button.colab-df-convert');\n",
              "      buttonEl.style.display =\n",
              "        google.colab.kernel.accessAllowed ? 'block' : 'none';\n",
              "\n",
              "      async function convertToInteractive(key) {\n",
              "        const element = document.querySelector('#df-bcdc6f1c-cf94-4c3b-ad0b-97e3647e6996');\n",
              "        const dataTable =\n",
              "          await google.colab.kernel.invokeFunction('convertToInteractive',\n",
              "                                                    [key], {});\n",
              "        if (!dataTable) return;\n",
              "\n",
              "        const docLinkHtml = 'Like what you see? Visit the ' +\n",
              "          '<a target=\"_blank\" href=https://colab.research.google.com/notebooks/data_table.ipynb>data table notebook</a>'\n",
              "          + ' to learn more about interactive tables.';\n",
              "        element.innerHTML = '';\n",
              "        dataTable['output_type'] = 'display_data';\n",
              "        await google.colab.output.renderOutput(dataTable, element);\n",
              "        const docLink = document.createElement('div');\n",
              "        docLink.innerHTML = docLinkHtml;\n",
              "        element.appendChild(docLink);\n",
              "      }\n",
              "    </script>\n",
              "  </div>\n",
              "\n",
              "\n",
              "    <div id=\"df-e24b2d16-79fe-4af3-8a9b-f176f22e0c84\">\n",
              "      <button class=\"colab-df-quickchart\" onclick=\"quickchart('df-e24b2d16-79fe-4af3-8a9b-f176f22e0c84')\"\n",
              "                title=\"Suggest charts\"\n",
              "                style=\"display:none;\">\n",
              "\n",
              "<svg xmlns=\"http://www.w3.org/2000/svg\" height=\"24px\"viewBox=\"0 0 24 24\"\n",
              "     width=\"24px\">\n",
              "    <g>\n",
              "        <path d=\"M19 3H5c-1.1 0-2 .9-2 2v14c0 1.1.9 2 2 2h14c1.1 0 2-.9 2-2V5c0-1.1-.9-2-2-2zM9 17H7v-7h2v7zm4 0h-2V7h2v10zm4 0h-2v-4h2v4z\"/>\n",
              "    </g>\n",
              "</svg>\n",
              "      </button>\n",
              "\n",
              "<style>\n",
              "  .colab-df-quickchart {\n",
              "      --bg-color: #E8F0FE;\n",
              "      --fill-color: #1967D2;\n",
              "      --hover-bg-color: #E2EBFA;\n",
              "      --hover-fill-color: #174EA6;\n",
              "      --disabled-fill-color: #AAA;\n",
              "      --disabled-bg-color: #DDD;\n",
              "  }\n",
              "\n",
              "  [theme=dark] .colab-df-quickchart {\n",
              "      --bg-color: #3B4455;\n",
              "      --fill-color: #D2E3FC;\n",
              "      --hover-bg-color: #434B5C;\n",
              "      --hover-fill-color: #FFFFFF;\n",
              "      --disabled-bg-color: #3B4455;\n",
              "      --disabled-fill-color: #666;\n",
              "  }\n",
              "\n",
              "  .colab-df-quickchart {\n",
              "    background-color: var(--bg-color);\n",
              "    border: none;\n",
              "    border-radius: 50%;\n",
              "    cursor: pointer;\n",
              "    display: none;\n",
              "    fill: var(--fill-color);\n",
              "    height: 32px;\n",
              "    padding: 0;\n",
              "    width: 32px;\n",
              "  }\n",
              "\n",
              "  .colab-df-quickchart:hover {\n",
              "    background-color: var(--hover-bg-color);\n",
              "    box-shadow: 0 1px 2px rgba(60, 64, 67, 0.3), 0 1px 3px 1px rgba(60, 64, 67, 0.15);\n",
              "    fill: var(--button-hover-fill-color);\n",
              "  }\n",
              "\n",
              "  .colab-df-quickchart-complete:disabled,\n",
              "  .colab-df-quickchart-complete:disabled:hover {\n",
              "    background-color: var(--disabled-bg-color);\n",
              "    fill: var(--disabled-fill-color);\n",
              "    box-shadow: none;\n",
              "  }\n",
              "\n",
              "  .colab-df-spinner {\n",
              "    border: 2px solid var(--fill-color);\n",
              "    border-color: transparent;\n",
              "    border-bottom-color: var(--fill-color);\n",
              "    animation:\n",
              "      spin 1s steps(1) infinite;\n",
              "  }\n",
              "\n",
              "  @keyframes spin {\n",
              "    0% {\n",
              "      border-color: transparent;\n",
              "      border-bottom-color: var(--fill-color);\n",
              "      border-left-color: var(--fill-color);\n",
              "    }\n",
              "    20% {\n",
              "      border-color: transparent;\n",
              "      border-left-color: var(--fill-color);\n",
              "      border-top-color: var(--fill-color);\n",
              "    }\n",
              "    30% {\n",
              "      border-color: transparent;\n",
              "      border-left-color: var(--fill-color);\n",
              "      border-top-color: var(--fill-color);\n",
              "      border-right-color: var(--fill-color);\n",
              "    }\n",
              "    40% {\n",
              "      border-color: transparent;\n",
              "      border-right-color: var(--fill-color);\n",
              "      border-top-color: var(--fill-color);\n",
              "    }\n",
              "    60% {\n",
              "      border-color: transparent;\n",
              "      border-right-color: var(--fill-color);\n",
              "    }\n",
              "    80% {\n",
              "      border-color: transparent;\n",
              "      border-right-color: var(--fill-color);\n",
              "      border-bottom-color: var(--fill-color);\n",
              "    }\n",
              "    90% {\n",
              "      border-color: transparent;\n",
              "      border-bottom-color: var(--fill-color);\n",
              "    }\n",
              "  }\n",
              "</style>\n",
              "\n",
              "      <script>\n",
              "        async function quickchart(key) {\n",
              "          const quickchartButtonEl =\n",
              "            document.querySelector('#' + key + ' button');\n",
              "          quickchartButtonEl.disabled = true;  // To prevent multiple clicks.\n",
              "          quickchartButtonEl.classList.add('colab-df-spinner');\n",
              "          try {\n",
              "            const charts = await google.colab.kernel.invokeFunction(\n",
              "                'suggestCharts', [key], {});\n",
              "          } catch (error) {\n",
              "            console.error('Error during call to suggestCharts:', error);\n",
              "          }\n",
              "          quickchartButtonEl.classList.remove('colab-df-spinner');\n",
              "          quickchartButtonEl.classList.add('colab-df-quickchart-complete');\n",
              "        }\n",
              "        (() => {\n",
              "          let quickchartButtonEl =\n",
              "            document.querySelector('#df-e24b2d16-79fe-4af3-8a9b-f176f22e0c84 button');\n",
              "          quickchartButtonEl.style.display =\n",
              "            google.colab.kernel.accessAllowed ? 'block' : 'none';\n",
              "        })();\n",
              "      </script>\n",
              "    </div>\n",
              "\n",
              "    </div>\n",
              "  </div>\n"
            ],
            "application/vnd.google.colaboratory.intrinsic+json": {
              "type": "dataframe",
              "variable_name": "retail_data"
            }
          },
          "metadata": {},
          "execution_count": 7
        }
      ]
    },
    {
      "cell_type": "code",
      "source": [
        "print((retail_data['Quantity'] <= 0).sum())"
      ],
      "metadata": {
        "colab": {
          "base_uri": "https://localhost:8080/"
        },
        "id": "95p91PHaqlfk",
        "outputId": "b76b8e3b-0263-44f3-889a-fefe2d635e48"
      },
      "execution_count": 8,
      "outputs": [
        {
          "output_type": "stream",
          "name": "stdout",
          "text": [
            "10624\n"
          ]
        }
      ]
    },
    {
      "cell_type": "code",
      "source": [
        "#Chỉ lấy dữ liệu có quantity > 0\n",
        "retail_data = retail_data[retail_data['Quantity'] > 0]\n",
        "print(retail_data.info())"
      ],
      "metadata": {
        "colab": {
          "base_uri": "https://localhost:8080/"
        },
        "id": "OM54GUAfrFu8",
        "outputId": "a60d702b-4b03-4d54-80b9-eac10e82929b"
      },
      "execution_count": 9,
      "outputs": [
        {
          "output_type": "stream",
          "name": "stdout",
          "text": [
            "<class 'pandas.core.frame.DataFrame'>\n",
            "Index: 531285 entries, 0 to 541908\n",
            "Data columns (total 8 columns):\n",
            " #   Column       Non-Null Count   Dtype         \n",
            "---  ------       --------------   -----         \n",
            " 0   InvoiceNo    531285 non-null  object        \n",
            " 1   StockCode    531285 non-null  object        \n",
            " 2   Description  530693 non-null  object        \n",
            " 3   Quantity     531285 non-null  int64         \n",
            " 4   InvoiceDate  531285 non-null  datetime64[ns]\n",
            " 5   UnitPrice    531285 non-null  float64       \n",
            " 6   CustomerID   397924 non-null  float64       \n",
            " 7   Country      531285 non-null  object        \n",
            "dtypes: datetime64[ns](1), float64(2), int64(1), object(4)\n",
            "memory usage: 36.5+ MB\n",
            "None\n"
          ]
        }
      ]
    },
    {
      "cell_type": "code",
      "source": [
        "# Loại bỏ các mẫu dữ liệu bắt đầu là ký tự\n",
        "# Giữ lại các dòng mà InvoiceNo bắt đầu bằng số (0-9)\n",
        "# Lọc những dòng có InvoiceNo không bị NaN\n",
        "invoice_notna = retail_data[retail_data['InvoiceNo'].notna()]\n",
        "\n",
        "# Giữ lại các dòng bắt đầu bằng số\n",
        "retail_data = invoice_notna[invoice_notna['InvoiceNo'].astype(str).str.match(r'^\\d')]\n",
        "retail_data.info()"
      ],
      "metadata": {
        "colab": {
          "base_uri": "https://localhost:8080/"
        },
        "id": "0JVGK_htuXIi",
        "outputId": "413f3d9b-7506-47b1-996d-2f9d040d8ba8"
      },
      "execution_count": 10,
      "outputs": [
        {
          "output_type": "stream",
          "name": "stdout",
          "text": [
            "<class 'pandas.core.frame.DataFrame'>\n",
            "Index: 531282 entries, 0 to 541908\n",
            "Data columns (total 8 columns):\n",
            " #   Column       Non-Null Count   Dtype         \n",
            "---  ------       --------------   -----         \n",
            " 0   InvoiceNo    531282 non-null  object        \n",
            " 1   StockCode    531282 non-null  object        \n",
            " 2   Description  530690 non-null  object        \n",
            " 3   Quantity     531282 non-null  int64         \n",
            " 4   InvoiceDate  531282 non-null  datetime64[ns]\n",
            " 5   UnitPrice    531282 non-null  float64       \n",
            " 6   CustomerID   397924 non-null  float64       \n",
            " 7   Country      531282 non-null  object        \n",
            "dtypes: datetime64[ns](1), float64(2), int64(1), object(4)\n",
            "memory usage: 36.5+ MB\n"
          ]
        }
      ]
    },
    {
      "cell_type": "code",
      "source": [
        "#Đếm số loại sản phẩm (Item)\n",
        "print(retail_data['StockCode'].value_counts())\n",
        "#Kiểm tra có bao nhiêu sản phẩm (Item)\n",
        "print(retail_data['StockCode'].nunique())\n",
        "print(retail_data['StockCode'].unique())"
      ],
      "metadata": {
        "colab": {
          "base_uri": "https://localhost:8080/"
        },
        "id": "qW11cIaSk0KZ",
        "outputId": "c95e82dc-bb4b-4871-f1ff-31052f3e277d"
      },
      "execution_count": 11,
      "outputs": [
        {
          "output_type": "stream",
          "name": "stdout",
          "text": [
            "StockCode\n",
            "85123A    2270\n",
            "85099B    2115\n",
            "22423     2019\n",
            "47566     1707\n",
            "20725     1595\n",
            "          ... \n",
            "46776b       1\n",
            "23617        1\n",
            "90214U       1\n",
            "47591b       1\n",
            "23843        1\n",
            "Name: count, Length: 3940, dtype: int64\n",
            "3940\n",
            "['85123A' 71053 '84406B' ... '90214U' '47591b' 23843]\n"
          ]
        }
      ]
    },
    {
      "cell_type": "code",
      "source": [
        "#Chỉ lấy 50% dữ liệu\n",
        "# retail_data = retail_data.sample(frac=0.5, random_state=42)\n",
        "# retail_data.info()"
      ],
      "metadata": {
        "colab": {
          "base_uri": "https://localhost:8080/"
        },
        "id": "4gKRyhOlxpBx",
        "outputId": "7332fa53-6de9-4971-e403-69fb5a4dad87"
      },
      "execution_count": null,
      "outputs": [
        {
          "output_type": "stream",
          "name": "stdout",
          "text": [
            "<class 'pandas.core.frame.DataFrame'>\n",
            "Index: 79692 entries, 415538 to 48980\n",
            "Data columns (total 8 columns):\n",
            " #   Column       Non-Null Count  Dtype         \n",
            "---  ------       --------------  -----         \n",
            " 0   InvoiceNo    79692 non-null  object        \n",
            " 1   StockCode    79692 non-null  object        \n",
            " 2   Description  79616 non-null  object        \n",
            " 3   Quantity     79692 non-null  int64         \n",
            " 4   InvoiceDate  79692 non-null  datetime64[ns]\n",
            " 5   UnitPrice    79692 non-null  float64       \n",
            " 6   CustomerID   59669 non-null  float64       \n",
            " 7   Country      79692 non-null  object        \n",
            "dtypes: datetime64[ns](1), float64(2), int64(1), object(4)\n",
            "memory usage: 5.5+ MB\n"
          ]
        }
      ]
    },
    {
      "cell_type": "code",
      "source": [
        "#Gộp Items trong cùng 1 giao dịch\n",
        "transactions = retail_data.groupby('InvoiceNo')['Description'].apply(list)\n",
        "\n",
        "# Chuyển tất cả phần tử trong mỗi transaction thành chuỗi\n",
        "transactions_str = [[str(item) for item in transaction] for transaction in transactions]\n",
        "print(transactions)\n"
      ],
      "metadata": {
        "colab": {
          "base_uri": "https://localhost:8080/"
        },
        "id": "uGClG0Lvnnr4",
        "outputId": "5480f27b-d9e7-4a1f-aee3-33de29addd83"
      },
      "execution_count": 32,
      "outputs": [
        {
          "output_type": "stream",
          "name": "stdout",
          "text": [
            "InvoiceNo\n",
            "536365    [WHITE HANGING HEART T-LIGHT HOLDER, WHITE MET...\n",
            "536366    [HAND WARMER UNION JACK, HAND WARMER RED POLKA...\n",
            "536367    [ASSORTED COLOUR BIRD ORNAMENT, POPPY'S PLAYHO...\n",
            "536368    [JAM MAKING SET WITH JARS, RED COAT RACK PARIS...\n",
            "536369                           [BATH BUILDING BLOCK WORD]\n",
            "                                ...                        \n",
            "581583    [LUNCH BAG RED RETROSPOT, 6 CHOCOLATE LOVE HEA...\n",
            "581584    [RED FLOCK LOVE HEART PHOTO FRAME, 6 CHOCOLATE...\n",
            "581585    [BLACK TEA TOWEL CLASSIC DESIGN, ASSORTED BOTT...\n",
            "581586    [LARGE CAKE STAND  HANGING STRAWBERY, SET OF 3...\n",
            "581587    [CIRCUS PARADE LUNCH BOX , PLASTERS IN TIN CIR...\n",
            "Name: Description, Length: 20725, dtype: object\n"
          ]
        }
      ]
    },
    {
      "cell_type": "code",
      "source": [
        "# 2. Chuyển dữ liệu sang định dạng one-hot encoding\n",
        "# One-hot encoding\n",
        "te = TransactionEncoder()\n",
        "te_ary = te.fit(transactions_str).transform(transactions_str)\n",
        "\n",
        "# Tạo DataFrame\n",
        "df = pd.DataFrame(te_ary, columns=te.columns_)\n",
        "\n",
        "# In kết quả\n",
        "print(df.head())"
      ],
      "metadata": {
        "colab": {
          "base_uri": "https://localhost:8080/"
        },
        "id": "7huX8qJBo4oW",
        "outputId": "1a900743-8715-467c-8eb1-07686800d1dd"
      },
      "execution_count": 33,
      "outputs": [
        {
          "output_type": "stream",
          "name": "stdout",
          "text": [
            "    4 PURPLE FLOCK DINNER CANDLES   50'S CHRISTMAS GIFT BAG LARGE  \\\n",
            "0                           False                           False   \n",
            "1                           False                           False   \n",
            "2                           False                           False   \n",
            "3                           False                           False   \n",
            "4                           False                           False   \n",
            "\n",
            "    DOLLY GIRL BEAKER   I LOVE LONDON MINI BACKPACK  \\\n",
            "0               False                         False   \n",
            "1               False                         False   \n",
            "2               False                         False   \n",
            "3               False                         False   \n",
            "4               False                         False   \n",
            "\n",
            "    I LOVE LONDON MINI RUCKSACK   NINE DRAWER OFFICE TIDY  \\\n",
            "0                         False                     False   \n",
            "1                         False                     False   \n",
            "2                         False                     False   \n",
            "3                         False                     False   \n",
            "4                         False                     False   \n",
            "\n",
            "    OVAL WALL MIRROR DIAMANTE    RED SPOT GIFT BAG LARGE  \\\n",
            "0                        False                     False   \n",
            "1                        False                     False   \n",
            "2                        False                     False   \n",
            "3                        False                     False   \n",
            "4                        False                     False   \n",
            "\n",
            "    SET 2 TEA TOWELS I LOVE LONDON    SPACEBOY BABY GIFT SET  ...  returned  \\\n",
            "0                             False                    False  ...     False   \n",
            "1                             False                    False  ...     False   \n",
            "2                             False                    False  ...     False   \n",
            "3                             False                    False  ...     False   \n",
            "4                             False                    False  ...     False   \n",
            "\n",
            "   taig adjust   test  to push order througha s stock was   website fixed  \\\n",
            "0        False  False                                False          False   \n",
            "1        False  False                                False          False   \n",
            "2        False  False                                False          False   \n",
            "3        False  False                                False          False   \n",
            "4        False  False                                False          False   \n",
            "\n",
            "   wrongly coded 20713  wrongly coded 23343  wrongly marked  \\\n",
            "0                False                False           False   \n",
            "1                False                False           False   \n",
            "2                False                False           False   \n",
            "3                False                False           False   \n",
            "4                False                False           False   \n",
            "\n",
            "   wrongly marked 23343  wrongly sold (22719) barcode  \n",
            "0                 False                         False  \n",
            "1                 False                         False  \n",
            "2                 False                         False  \n",
            "3                 False                         False  \n",
            "4                 False                         False  \n",
            "\n",
            "[5 rows x 4077 columns]\n"
          ]
        }
      ]
    },
    {
      "cell_type": "code",
      "source": [
        "# 3. Áp dụng thuật toán FP-Growth\n",
        "min_support = 0.01  # Ngưỡng support tối thiểu: 5%\n",
        "frequent_itemsets = fpgrowth(df, min_support=min_support, use_colnames=True)"
      ],
      "metadata": {
        "id": "Aq7pKlaeo77F"
      },
      "execution_count": 38,
      "outputs": []
    },
    {
      "cell_type": "code",
      "source": [
        "print(frequent_itemsets.shape)\n",
        "print(frequent_itemsets.head())"
      ],
      "metadata": {
        "colab": {
          "base_uri": "https://localhost:8080/"
        },
        "id": "0lCOYgGMeaDq",
        "outputId": "29a3941e-9bc7-47e7-8fee-37d00a3c0ba9"
      },
      "execution_count": 39,
      "outputs": [
        {
          "output_type": "stream",
          "name": "stdout",
          "text": [
            "(1725, 2)\n",
            "    support                               itemsets\n",
            "0  0.109047   (WHITE HANGING HEART T-LIGHT HOLDER)\n",
            "1  0.022147  (KNITTED UNION FLAG HOT WATER BOTTLE)\n",
            "2  0.020700       (RED WOOLLY HOTTIE WHITE HEART.)\n",
            "3  0.018335         (SET 7 BABUSHKA NESTING BOXES)\n",
            "4  0.014813                  (WHITE METAL LANTERN)\n"
          ]
        }
      ]
    },
    {
      "cell_type": "code",
      "source": [
        "# 4. Tạo luật kết hợp\n",
        "min_confidence = 0.7  # Ngưỡng confidence tối thiểu:\n",
        "rules = association_rules(frequent_itemsets, metric=\"confidence\", min_threshold=min_confidence)"
      ],
      "metadata": {
        "id": "q3pvlE1tpBE1"
      },
      "execution_count": 40,
      "outputs": []
    },
    {
      "cell_type": "code",
      "source": [
        "# 5. In kết quả\n",
        "print(\"Frequent Itemsets:\")\n",
        "print(frequent_itemsets.sort_values(by='support', ascending=False).head(10))\n",
        "print(\"\\nAssociation Rules:\")\n",
        "print(rules[['antecedents', 'consequents', 'support', 'confidence', 'lift']].head(10))"
      ],
      "metadata": {
        "id": "tkc9ctjYpEzn",
        "colab": {
          "base_uri": "https://localhost:8080/"
        },
        "outputId": "5fbfc223-66c7-464f-bc1d-a667b1bd3516"
      },
      "execution_count": 41,
      "outputs": [
        {
          "output_type": "stream",
          "name": "stdout",
          "text": [
            "Frequent Itemsets:\n",
            "      support                              itemsets\n",
            "0    0.109047  (WHITE HANGING HEART T-LIGHT HOLDER)\n",
            "92   0.100941             (JUMBO BAG RED RETROSPOT)\n",
            "295  0.095971            (REGENCY CAKESTAND 3 TIER)\n",
            "574  0.081351                       (PARTY BUNTING)\n",
            "42   0.075464             (LUNCH BAG RED RETROSPOT)\n",
            "7    0.070205       (ASSORTED COLOUR BIRD ORNAMENT)\n",
            "602  0.066828   (SET OF 3 CAKE TINS PANTRY DESIGN )\n",
            "43   0.063691     (PACK OF 72 RETROSPOT CAKE CASES)\n",
            "172  0.061423             (LUNCH BAG  BLACK SKULL.)\n",
            "79   0.060265     (NATURAL SLATE HEART CHALKBOARD )\n",
            "\n",
            "Association Rules:\n",
            "                                         antecedents  \\\n",
            "0                        (POPPY'S PLAYHOUSE KITCHEN)   \n",
            "1                       (POPPY'S PLAYHOUSE BEDROOM )   \n",
            "2  (ALARM CLOCK BAKELIKE GREEN, ALARM CLOCK BAKEL...   \n",
            "3  (LUNCH BAG RED RETROSPOT, JUMBO BAG PINK POLKA...   \n",
            "4  (JUMBO BAG PINK POLKADOT, JUMBO STORAGE BAG SUKI)   \n",
            "5  (LUNCH BAG RED RETROSPOT, JUMBO STORAGE BAG SUKI)   \n",
            "6  (JUMBO  BAG BAROQUE BLACK WHITE, JUMBO STORAGE...   \n",
            "7  (JUMBO  BAG BAROQUE BLACK WHITE, JUMBO BAG PIN...   \n",
            "8  (JUMBO  BAG BAROQUE BLACK WHITE, JUMBO SHOPPER...   \n",
            "9  (JUMBO BAG PINK POLKADOT, JUMBO BAG PINK VINTA...   \n",
            "\n",
            "                    consequents   support  confidence       lift  \n",
            "0  (POPPY'S PLAYHOUSE BEDROOM )  0.015103    0.717890  35.173211  \n",
            "1   (POPPY'S PLAYHOUSE KITCHEN)  0.015103    0.739953  35.173211  \n",
            "2   (ALARM CLOCK BAKELIKE RED )  0.015103    0.748804  14.765899  \n",
            "3     (JUMBO BAG RED RETROSPOT)  0.012014    0.770898   7.637121  \n",
            "4     (JUMBO BAG RED RETROSPOT)  0.019928    0.801942   7.944667  \n",
            "5     (JUMBO BAG RED RETROSPOT)  0.011580    0.701754   6.952132  \n",
            "6     (JUMBO BAG RED RETROSPOT)  0.015344    0.753555   7.465305  \n",
            "7     (JUMBO BAG RED RETROSPOT)  0.015682    0.785024   7.777068  \n",
            "8     (JUMBO BAG RED RETROSPOT)  0.015006    0.738717   7.318316  \n",
            "9     (JUMBO BAG RED RETROSPOT)  0.014234    0.778364   7.711088  \n"
          ]
        }
      ]
    },
    {
      "cell_type": "code",
      "source": [
        "# 6. Lưu dữ liệu giả lập và kết quả (tùy chọn)\n",
        "df_transactions = pd.DataFrame(transactions)\n",
        "df_transactions.to_csv('simulated_transactions.csv', index=False)\n",
        "frequent_itemsets.to_csv('frequent_itemsets.csv', index=False)\n",
        "rules.to_csv('association_rules.csv', index=False)"
      ],
      "metadata": {
        "id": "0ziSz4QZcP58"
      },
      "execution_count": null,
      "outputs": []
    }
  ]
}