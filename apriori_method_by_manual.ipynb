{
  "nbformat": 4,
  "nbformat_minor": 0,
  "metadata": {
    "colab": {
      "provenance": [],
      "include_colab_link": true
    },
    "kernelspec": {
      "name": "python3",
      "display_name": "Python 3"
    },
    "language_info": {
      "name": "python"
    }
  },
  "cells": [
    {
      "cell_type": "markdown",
      "metadata": {
        "id": "view-in-github",
        "colab_type": "text"
      },
      "source": [
        "<a href=\"https://colab.research.google.com/github/quangnguyen-james/Datamining-Technical/blob/main/apriori_method_by_manual.ipynb\" target=\"_parent\"><img src=\"https://colab.research.google.com/assets/colab-badge.svg\" alt=\"Open In Colab\"/></a>"
      ]
    },
    {
      "cell_type": "code",
      "source": [
        "import pandas as pd\n",
        "import numpy as np\n",
        "from collections import defaultdict\n",
        "import itertools\n",
        "import random"
      ],
      "metadata": {
        "id": "njLYS0IThmM-"
      },
      "execution_count": 67,
      "outputs": []
    },
    {
      "cell_type": "code",
      "source": [
        "transactions =[['Bánh mì','Sữa', 'Bơ'],\n",
        "              ['Bánh mì','Bơ'],\n",
        "              ['Sữa','Bơ'],\n",
        "              ['Bánh mì','Sữa'],\n",
        "              ['Bánh mì', 'Sữa', 'Bơ']]\n",
        "minSupport = 0.5\n",
        "minConfidence = 0.7"
      ],
      "metadata": {
        "collapsed": true,
        "id": "hbZeeMGvho4k"
      },
      "execution_count": 72,
      "outputs": []
    },
    {
      "cell_type": "code",
      "source": [
        "from ctypes import sizeof\n",
        "# Tạo tập 1-itemset + tính support\n",
        "def get_frequent_itemsets(transactions, min_support, all_candidates=False):\n",
        "    item_counts = defaultdict(int)\n",
        "    total_transactions = len(transactions)\n",
        "\n",
        "    # Đếm từng item riêng lẻ (1-itemset)\n",
        "    for transaction in transactions:\n",
        "        for item in transaction:\n",
        "            item_counts[frozenset([item])] += 1\n",
        "\n",
        "     # Tính support cho từng candidate\n",
        "    candidate_supports = {item: count / total_transactions for item, count in item_counts.items()}\n",
        "\n",
        "    if all_candidates:\n",
        "        print(\"\\n📋 Danh sách ứng viên (candidates) K = 1\")\n",
        "        print(f\"{'Itemset':<35} {'Support':<10} {'Kết quả':<10}\")\n",
        "        print(\"-\" * 60)\n",
        "        for item, support in sorted(candidate_supports.items(), key=lambda x: -x[1]):\n",
        "            status = \"✅ Chọn\" if support >= min_support else \"❌ Loại\"\n",
        "            print(f\"{set(item)!s:<35} {support:<10.2f} {status:<10}\")\n",
        "\n",
        "    # Lọc theo min_support\n",
        "    frequent_1_itemsets = {item: count / total_transactions for item, count in item_counts.items() if count / total_transactions >= min_support}\n",
        "\n",
        "    return frequent_1_itemsets\n",
        "\n",
        "print('Tất cả tập 1-itemsets')\n",
        "frequent_1_itemsets = get_frequent_itemsets(transactions, minSupport, all_candidates=True)\n",
        "\n",
        "#Sinh tập ứng viên k-itemset từ (k-1)-itemset\n",
        "def generate_candidates(prev_frequent_itemsets, k):\n",
        "  prev_items = list(prev_frequent_itemsets.keys())\n",
        "  candidates = set()\n",
        "\n",
        "  for i in range(len(prev_items)):\n",
        "      for j in range(i+1, len(prev_items)):\n",
        "          union_set = prev_items[i].union(prev_items[j])\n",
        "          if len(union_set) == k:\n",
        "              candidates.add(union_set)\n",
        "\n",
        "  return candidates\n",
        "\n",
        "# Đếm support cho tập ứng viên\n",
        "def count_support(transactions, candidates, min_support, all_candidates=False):\n",
        "    from collections import defaultdict\n",
        "\n",
        "    total_transactions = len(transactions)\n",
        "    item_counts = defaultdict(int)\n",
        "\n",
        "    # Đếm support\n",
        "    for transaction in transactions:\n",
        "        transaction_set = set(transaction)\n",
        "        for candidate in candidates:\n",
        "            if candidate.issubset(transaction_set):\n",
        "                item_counts[candidate] += 1\n",
        "\n",
        "    # Tính support cho từng candidate\n",
        "    candidate_supports = {item: count / total_transactions for item, count in item_counts.items()}\n",
        "\n",
        "    if all_candidates:\n",
        "        k = len(next(iter(candidates))) if candidates else 0\n",
        "        if k > 0:\n",
        "          print(f\"\\n📋 Danh sách ứng viên (candidates) K= {k}\")\n",
        "          print(f\"{'Itemset':<35} {'Support':<10} {'Kết quả':<10}\")\n",
        "          print(\"-\" * 60)\n",
        "          for item, support in sorted(candidate_supports.items(), key=lambda x: -x[1]):\n",
        "              status = \"✅ Chọn\" if support >= min_support else \"❌ Loại\"\n",
        "              print(f\"{set(item)!s:<35} {support:<10.2f} {status:<10}\")\n",
        "\n",
        "    # Trả về chỉ các itemset được chọn\n",
        "    return {item: support for item, support in candidate_supports.items() if support >= min_support}\n",
        "\n",
        "\n",
        "\n",
        "# Xây dựng thuật toán apriori\n",
        "def apriori(transactions, min_support):\n",
        "    all_frequent_itemsets = dict()\n",
        "\n",
        "    # Step 1: 1-itemset\n",
        "    L1 = get_frequent_itemsets(transactions, min_support)\n",
        "    k = 2\n",
        "    current_L = L1\n",
        "    all_frequent_itemsets.update(L1)\n",
        "\n",
        "    while current_L:\n",
        "        candidates = generate_candidates(current_L, k)\n",
        "        current_L = count_support(transactions, candidates, min_support, all_candidates=True)\n",
        "        current_L = count_support(transactions, candidates, min_support)\n",
        "        all_frequent_itemsets.update(current_L)\n",
        "        k += 1\n",
        "\n",
        "    return all_frequent_itemsets\n",
        "\n",
        "\n",
        "\n",
        "frequent_itemsets = apriori(transactions, minSupport)\n",
        "\n",
        "print(\"Các itemset phổ biến (support >= 0.5):\")\n",
        "for itemset, support in frequent_itemsets.items():\n",
        "    print(f\"{set(itemset)}: {support:.2f}\")"
      ],
      "metadata": {
        "colab": {
          "base_uri": "https://localhost:8080/"
        },
        "id": "fK-oqNkvifry",
        "outputId": "2e495771-4157-40e0-e260-e52d600e9ec7"
      },
      "execution_count": 73,
      "outputs": [
        {
          "output_type": "stream",
          "name": "stdout",
          "text": [
            "Tất cả tập 1-itemsets\n",
            "\n",
            "📋 Danh sách ứng viên (candidates) K = 1\n",
            "Itemset                             Support    Kết quả   \n",
            "------------------------------------------------------------\n",
            "{'Bánh mì'}                         0.80       ✅ Chọn    \n",
            "{'Sữa'}                             0.80       ✅ Chọn    \n",
            "{'Bơ'}                              0.80       ✅ Chọn    \n",
            "\n",
            "📋 Danh sách ứng viên (candidates) K= 2\n",
            "Itemset                             Support    Kết quả   \n",
            "------------------------------------------------------------\n",
            "{'Bơ', 'Sữa'}                       0.60       ✅ Chọn    \n",
            "{'Bơ', 'Bánh mì'}                   0.60       ✅ Chọn    \n",
            "{'Sữa', 'Bánh mì'}                  0.60       ✅ Chọn    \n",
            "\n",
            "📋 Danh sách ứng viên (candidates) K= 3\n",
            "Itemset                             Support    Kết quả   \n",
            "------------------------------------------------------------\n",
            "{'Bơ', 'Sữa', 'Bánh mì'}            0.40       ❌ Loại    \n",
            "Các itemset phổ biến (support >= 0.5):\n",
            "{'Bánh mì'}: 0.80\n",
            "{'Sữa'}: 0.80\n",
            "{'Bơ'}: 0.80\n",
            "{'Bơ', 'Sữa'}: 0.60\n",
            "{'Bơ', 'Bánh mì'}: 0.60\n",
            "{'Sữa', 'Bánh mì'}: 0.60\n"
          ]
        }
      ]
    },
    {
      "cell_type": "code",
      "source": [
        "# Hàm kiểm tra điều kiện có thể triển khai sinh luật kết hợp và triển khai bài toán Confidence & Lift\n",
        "def can_generate_rules(frequent_itemsets):\n",
        "    return any(len(item) >= 2 for item in frequent_itemsets)"
      ],
      "metadata": {
        "id": "is07-OSrr98C"
      },
      "execution_count": 74,
      "outputs": []
    },
    {
      "cell_type": "code",
      "source": [
        "# Tạo luật kết hợp (Association Rules)\n",
        "def generate_association_rules(frequent_itemsets, min_confidence):\n",
        "    rules = []\n",
        "    for itemset in frequent_itemsets:\n",
        "        if len(itemset) < 2:\n",
        "            continue  # Không thể tạo luật từ 1 item\n",
        "        # Tạo tất cả các tập con không rỗng\n",
        "        subsets = [frozenset(x) for i in range(1, len(itemset))\n",
        "                   for x in itertools.combinations(itemset, i)]\n",
        "        for antecedent in subsets:\n",
        "            consequent = itemset - antecedent\n",
        "            if consequent:\n",
        "                support_itemset = frequent_itemsets[itemset]\n",
        "                support_antecedent = frequent_itemsets.get(antecedent, 0)\n",
        "                if support_antecedent == 0:\n",
        "                    continue  # tránh chia cho 0\n",
        "                confidence = support_itemset / support_antecedent\n",
        "                if confidence >= min_confidence:\n",
        "                    rules.append((set(antecedent), set(consequent), support_itemset, confidence))\n",
        "    return rules\n",
        "\n",
        "if not can_generate_rules(frequent_itemsets):\n",
        "    print(\"⚠️ Không tồn tại itemset có ≥ 2 phần tử — không thể sinh luật kết hợp.\")\n",
        "else:\n",
        "  # Áp dụng với bài toán\n",
        "  rules = generate_association_rules(frequent_itemsets, minConfidence)\n",
        "\n",
        "  print(\"Luật kết hợp thỏa minConfidence:\")\n",
        "  for antecedent, consequent, support, confidence in rules:\n",
        "      print(f\"{antecedent} => {consequent} (support: {support:.2f}, confidence: {confidence:.2f})\")"
      ],
      "metadata": {
        "colab": {
          "base_uri": "https://localhost:8080/"
        },
        "id": "Gf8RCTgBkJx-",
        "outputId": "a6ca6ec4-b3eb-47ea-ccae-1d5c4e68c2fc"
      },
      "execution_count": 75,
      "outputs": [
        {
          "output_type": "stream",
          "name": "stdout",
          "text": [
            "Luật kết hợp thỏa minConfidence:\n",
            "{'Bơ'} => {'Sữa'} (support: 0.60, confidence: 0.75)\n",
            "{'Sữa'} => {'Bơ'} (support: 0.60, confidence: 0.75)\n",
            "{'Bơ'} => {'Bánh mì'} (support: 0.60, confidence: 0.75)\n",
            "{'Bánh mì'} => {'Bơ'} (support: 0.60, confidence: 0.75)\n",
            "{'Sữa'} => {'Bánh mì'} (support: 0.60, confidence: 0.75)\n",
            "{'Bánh mì'} => {'Sữa'} (support: 0.60, confidence: 0.75)\n"
          ]
        }
      ]
    },
    {
      "cell_type": "code",
      "source": [
        "# Xây dựng hàm tính toán Lift\n",
        "def generate_association_rules(frequent_itemsets, min_confidence):\n",
        "    rules = []\n",
        "    for itemset in frequent_itemsets:\n",
        "        if len(itemset) < 2:\n",
        "            continue\n",
        "        subsets = [frozenset(x) for i in range(1, len(itemset))\n",
        "                   for x in itertools.combinations(itemset, i)]\n",
        "        for antecedent in subsets:\n",
        "            consequent = itemset - antecedent\n",
        "            if consequent:\n",
        "                support_itemset = frequent_itemsets[itemset]\n",
        "                support_antecedent = frequent_itemsets.get(antecedent, 0)\n",
        "                support_consequent = frequent_itemsets.get(consequent, 0)\n",
        "                if support_antecedent == 0 or support_consequent == 0:\n",
        "                    continue\n",
        "                confidence = support_itemset / support_antecedent\n",
        "                lift = confidence / support_consequent\n",
        "                if confidence >= min_confidence:\n",
        "                    rules.append({\n",
        "                        'antecedent': set(antecedent),\n",
        "                        'consequent': set(consequent),\n",
        "                        'support': support_itemset,\n",
        "                        'confidence': confidence,\n",
        "                        'lift': lift\n",
        "                    })\n",
        "    return rules\n",
        "if not can_generate_rules(frequent_itemsets):\n",
        "    print(\"⚠️ Không tồn tại itemset có ≥ 2 phần tử — không thể thực hiện tính toán Lift.\")\n",
        "else:\n",
        "  rules = generate_association_rules(frequent_itemsets, min_confidence=0.7)\n",
        "  print(\"📈 Các luật kết hợp (có lift):\")\n",
        "  for rule in rules:\n",
        "      print(f\"{rule['antecedent']} => {rule['consequent']} | support={rule['support']:.2f} | confidence={rule['confidence']:.2f} | lift={rule['lift']:.2f}\")"
      ],
      "metadata": {
        "colab": {
          "base_uri": "https://localhost:8080/"
        },
        "id": "T_KjNQcQDLxQ",
        "outputId": "bebe2e15-3e1d-4472-8d8f-53733482c324"
      },
      "execution_count": 76,
      "outputs": [
        {
          "output_type": "stream",
          "name": "stdout",
          "text": [
            "📈 Các luật kết hợp (có lift):\n",
            "{'Bơ'} => {'Sữa'} | support=0.60 | confidence=0.75 | lift=0.94\n",
            "{'Sữa'} => {'Bơ'} | support=0.60 | confidence=0.75 | lift=0.94\n",
            "{'Bơ'} => {'Bánh mì'} | support=0.60 | confidence=0.75 | lift=0.94\n",
            "{'Bánh mì'} => {'Bơ'} | support=0.60 | confidence=0.75 | lift=0.94\n",
            "{'Sữa'} => {'Bánh mì'} | support=0.60 | confidence=0.75 | lift=0.94\n",
            "{'Bánh mì'} => {'Sữa'} | support=0.60 | confidence=0.75 | lift=0.94\n"
          ]
        }
      ]
    },
    {
      "cell_type": "code",
      "source": [
        "# Trực quan hóa luật bằng biểu đồ\n",
        "import pandas as pd\n",
        "import matplotlib.pyplot as plt\n",
        "\n",
        "# Tạo DataFrame từ danh sách rules\n",
        "rules_df = pd.DataFrame(rules)\n",
        "\n",
        "# Sắp xếp theo lift để trực quan dễ hiểu\n",
        "rules_df.sort_values(by='lift', ascending=False, inplace=True)\n",
        "\n",
        "plt.figure(figsize=(8,6))\n",
        "plt.scatter(rules_df['confidence'], rules_df['lift'], c=rules_df['support'], cmap='viridis', s=100, alpha=0.7)\n",
        "plt.colorbar(label='Support')\n",
        "plt.xlabel('Confidence')\n",
        "plt.ylabel('Lift')\n",
        "plt.title('Biểu đồ các luật kết hợp')\n",
        "plt.grid(True)\n",
        "plt.show()\n",
        "\n"
      ],
      "metadata": {
        "colab": {
          "base_uri": "https://localhost:8080/",
          "height": 566
        },
        "id": "qW11cIaSk0KZ",
        "outputId": "f706175b-edbb-41bf-9600-2080b0df0836"
      },
      "execution_count": 77,
      "outputs": [
        {
          "output_type": "display_data",
          "data": {
            "text/plain": [
              "<Figure size 800x600 with 2 Axes>"
            ],
            "image/png": "[encoded data removed]"
          },
          "metadata": {}
        }
      ]
    }
  ]
}